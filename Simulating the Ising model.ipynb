{
 "cells": [
  {
   "cell_type": "code",
   "execution_count": 3,
   "id": "c8f55677",
   "metadata": {},
   "outputs": [],
   "source": [
    "import numpy as np\n",
    "from numpy.random import rand\n",
    "import matplotlib.pyplot as plt\n",
    "from scipy.sparse import spdiags, linalg, eye"
   ]
  },
  {
   "cell_type": "code",
   "execution_count": 6,
   "id": "87f6e181",
   "metadata": {},
   "outputs": [],
   "source": [
    "%matplotlib inline\n",
    "#Simulating the Ising model\n",
    "\n",
    "class Ising():\n",
    "    \"\"\"\n",
    "    Simulating the Ising model\n",
    "    \"\"\"\n",
    "    \n",
    "    \n",
    "    #monte carlo moves\n",
    "    def mcmove(self, config, N, beta):\n",
    "        \"\"\"\n",
    "        Monte Carlo move using the Metropolis algorithm\n",
    "        \"\"\"\n",
    "    \n",
    "        for i in range(N):\n",
    "            for j in range(N):\n",
    "                a = np.random.randint(0, N)\n",
    "                b = np.random.randint(0, N)\n",
    "                s = config[a, b]\n",
    "                nb = config[(a+1)%N, b] + config[a, (b+1)%N] + config[(a-1)%N, b] + config[1, (b-1)%N]\n",
    "                cost = 2*s*nb\n",
    "            \n",
    "                if cost < 0:\n",
    "                    s *= -1\n",
    "                elif rand() < np.exp(-cost*beta):\n",
    "                    s *= -1\n",
    "                config[a, b] = s\n",
    "\n",
    "        return config\n",
    "    \n",
    "    def simulate(self):\n",
    "        \"\"\"\n",
    "        This module simulates the Ising model.\n",
    "        \"\"\"\n",
    "        \n",
    "        N, temp = 64, 0.4   #Initialise the lattice\n",
    "        config = 2*np.random.randint(2, size=(N, N))-1\n",
    "        f = plt.figure(figsize = (15, 15), dpi = 80);\n",
    "        self.configPlot(f, config, 0, N, 1);\n",
    "        \n",
    "        msrmnt = 1001\n",
    "        \n",
    "        for i in range(msrmnt):\n",
    "            self.mcmove(config, N, 1.0/temp)\n",
    "            if i == 1:\n",
    "                self.configPlot(f, config, i, N, 2);\n",
    "            if i == 4:\n",
    "                self.configPlot(f, config, i, N, 3);\n",
    "            if i == 32:\n",
    "                self.configPlot(f, config, i, N, 4);\n",
    "            if i == 100:\n",
    "                self.configPlot(f, config, i, N, 5);\n",
    "            if i == 1000:\n",
    "                self.configPlot(f, config, i, N, 6);\n",
    "\n",
    "    \n",
    "    def configPlot(self, f, config, i, N, n_):\n",
    "        \"\"\"\n",
    "        This module plots the configuration once passed to it along with time etc\n",
    "        \"\"\"\n",
    "        X, Y = np.meshgrid(range(N), range(N))\n",
    "        sp = f.add_subplot(3, 3, n_)\n",
    "        plt.setp(sp.get_yticklabels(), visible = False)\n",
    "        plt.setp(sp.get_xticklabels(), visible = False)\n",
    "        plt.pcolormesh(X, Y, config, cmap=plt.cm.RdBu)\n",
    "        plt.title(\"Time = %d\"%i)\n",
    "        plt.axis(\"tight\")\n",
    "    \n",
    "    plt.show()"
   ]
  },
  {
   "cell_type": "code",
   "execution_count": 7,
   "id": "940da2db",
   "metadata": {},
   "outputs": [
    {
     "data": {
      "image/png": "[encoded data removed]",
      "text/plain": [
       "<Figure size 1200x1200 with 6 Axes>"
      ]
     },
     "metadata": {},
     "output_type": "display_data"
    }
   ],
   "source": [
    "rm = Ising()\n",
    "rm.simulate()"
   ]
  },
  {
   "cell_type": "code",
   "execution_count": null,
   "id": "89ebe587",
   "metadata": {},
   "outputs": [],
   "source": []
  }
 ],
 "metadata": {
  "kernelspec": {
   "display_name": "Python 3 (ipykernel)",
   "language": "python",
   "name": "python3"
  },
  "language_info": {
   "codemirror_mode": {
    "name": "ipython",
    "version": 3
   },
   "file_extension": ".py",
   "mimetype": "text/x-python",
   "name": "python",
   "nbconvert_exporter": "python",
   "pygments_lexer": "ipython3",
   "version": "3.9.12"
  }
 },
 "nbformat": 4,
 "nbformat_minor": 5
}
